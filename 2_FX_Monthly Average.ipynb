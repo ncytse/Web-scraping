{
 "cells": [
  {
   "cell_type": "code",
   "execution_count": 1,
   "metadata": {},
   "outputs": [],
   "source": [
    "from urllib.request import urlopen\n",
    "from bs4 import BeautifulSoup\n",
    "import pandas as pd\n",
    "import datetime\n",
    "import re\n",
    "import math\n",
    "from openpyxl import load_workbook\n",
    "import xlrd\n",
    "import os"
   ]
  },
  {
   "cell_type": "code",
   "execution_count": 2,
   "metadata": {},
   "outputs": [],
   "source": [
    "today_date = datetime.date.today()\n",
    "#today_date = datetime.date(2018,4,2)\n",
    "d = datetime.timedelta(1)\n",
    "end_date = today_date - d*2"
   ]
  },
  {
   "cell_type": "code",
   "execution_count": 3,
   "metadata": {},
   "outputs": [],
   "source": [
    "quarter_dict = {'Q1': datetime.date(end_date.year,3,31),\n",
    "                'Q2': datetime.date(end_date.year,6,30),\n",
    "                'Q3': datetime.date(end_date.year,9,30),\n",
    "                'Q4': datetime.date(end_date.year-1,12,31),\n",
    "               }"
   ]
  },
  {
   "cell_type": "code",
   "execution_count": 4,
   "metadata": {},
   "outputs": [],
   "source": [
    "def find_prev_quarter(dt):\n",
    "    prev_quarter_map = ((4, -1), (1, 0), (2, 0), (3, 0))\n",
    "    quarter, yd = prev_quarter_map[(dt.month - 1) // 3]\n",
    "    return (str(dt.year + yd) + '_Q'+ str(quarter))"
   ]
  },
  {
   "cell_type": "code",
   "execution_count": 5,
   "metadata": {},
   "outputs": [],
   "source": [
    "def get_quarter(d):\n",
    "    \n",
    "    prev_quarter = find_prev_quarter(d)\n",
    "    current_quarter = \"%d_Q%d\" % (d.year, math.ceil(d.month/3))\n",
    "        \n",
    "    return prev_quarter, current_quarter\n",
    "\n",
    "prev_quarter, current_quarter = get_quarter(end_date)"
   ]
  },
  {
   "cell_type": "code",
   "execution_count": 6,
   "metadata": {},
   "outputs": [],
   "source": [
    "def daterange(start_date, end_date):\n",
    "    for n in range(int((end_date - start_date).days)):\n",
    "        yield start_date + datetime.timedelta(n)"
   ]
  },
  {
   "cell_type": "code",
   "execution_count": 7,
   "metadata": {},
   "outputs": [],
   "source": [
    "def create_df(quarter, start_date, end_date, file_exist):\n",
    "\n",
    "    #Update current file(if any) or create a new file\n",
    "    if file_exist == True:\n",
    "    \n",
    "        file = 'FX Rate '+quarter+'.xlsx'\n",
    "        book = load_workbook(file)\n",
    "        writer = pd.ExcelWriter(file, engine = 'openpyxl')\n",
    "        writer.book = book\n",
    "        \n",
    "    else:\n",
    "        \n",
    "        writer = pd.ExcelWriter('FX Rate '+quarter+'.xlsx')\n",
    "        \n",
    "    #create df\n",
    "    for date in daterange(start_date, end_date+d):\n",
    "    \n",
    "        url = 'https://www.xe.com/currencytables/?from=USD&date='+str(date.year)+'-'+'{:02d}'.format(date.month)+'-'+'{:02d}'.format(date.day)\n",
    "\n",
    "        # this is the html from the given url\n",
    "        html = urlopen(url)\n",
    "\n",
    "        soup = BeautifulSoup(html, 'html.parser')\n",
    "\n",
    "        column_headers = [th.getText() for th in \n",
    "                          soup.findAll('tr', limit=1)[0].findAll('th')] #[0] means first row of table\n",
    "        column_headers = [re.sub(\"[^ \\w]\",\" \",x).strip() for x in column_headers]\n",
    "\n",
    "        data_rows = soup.findAll('tr')[1:] #[1:] means 2nd row of table onward\n",
    "        type(data_rows)  # now we have a list of table rows\n",
    "\n",
    "        country_data = []  # create an empty list to hold all the data\n",
    "\n",
    "        for i in range(len(data_rows)):  # for each table row\n",
    "            country_row = []  # create an empty list for each country\n",
    "\n",
    "            # for each table data element from each table row\n",
    "            for td in data_rows[i].findAll('td'):        \n",
    "                # get the text content and append to the country_row \n",
    "                country_row.append(td.getText())        \n",
    "\n",
    "            # then append each country to the country_data matrix\n",
    "            country_data.append(country_row)\n",
    "\n",
    "        df = pd.DataFrame(country_data, columns=column_headers)\n",
    "    \n",
    "        df = df[df['Currency code'].str.len() == 3]\n",
    "        df = df.drop(['Units per USD'], axis=1)\n",
    "        df['Date'] = str(date.year) + '{:02d}'.format(date.month) + '{:02d}'.format(date.day)\n",
    "        df = df[['Date', 'Currency code', 'Currency name', 'USD per Unit']]\n",
    "        df['Date']=df['Date'].astype('int')\n",
    "        df['USD per Unit']=df['USD per Unit'].astype('float')\n",
    "    \n",
    "        df.to_excel(writer,str(date.year) + '{:02d}'.format(date.month) + '{:02d}'.format(date.day), index=False)\n",
    "\n",
    "    writer.save()"
   ]
  },
  {
   "cell_type": "code",
   "execution_count": 8,
   "metadata": {},
   "outputs": [],
   "source": [
    "#Check if file exist  \n",
    "if os.path.isfile('FX Rate '+current_quarter+'.xlsx') == True:\n",
    "    \n",
    "    #Check for max date in excel\n",
    "    xls = xlrd.open_workbook('FX Rate '+current_quarter+'.xlsx', on_demand=True)\n",
    "    max_date_tab = xls.sheet_names()[-1]\n",
    "    excel_max_date = datetime.date(int(max_date_tab[0:4]),int(max_date_tab[4:6]),int(max_date_tab[-2:]))\n",
    "    \n",
    "    #Create start date\n",
    "    if end_date - excel_max_date > d:\n",
    "        start_date = excel_max_date + d\n",
    "    else:\n",
    "        start_date = end_date\n",
    "        \n",
    "    create_df(current_quarter, start_date, end_date, True)\n",
    "\n",
    "else:\n",
    "    \n",
    "    start_date = quarter_dict[prev_quarter[-2:]]+d\n",
    "    create_df(current_quarter, start_date, end_date, False)\n",
    "           \n",
    "    #Check if previous quarter excel done\n",
    "    xls = xlrd.open_workbook('FX Rate '+prev_quarter+'.xlsx', on_demand=True)\n",
    "    max_date_tab = xls.sheet_names()[-1]\n",
    "    excel_max_date = datetime.date(int(max_date_tab[0:4]),int(max_date_tab[4:6]),int(max_date_tab[-2:]))\n",
    "        \n",
    "    #check previous excel_max_date equals to quarter end\n",
    "    if excel_max_date < quarter_dict[prev_quarter[-2:]]:\n",
    "        \n",
    "        print('Previous file',prev_quarter, 'also need to update for period ',excel_max_date+d, 'to',quarter_dict[prev_quarter[-2:]])\n",
    "        \n",
    "        #finish the previous excel\n",
    "        create_df(prev_quarter, excel_max_date+d, quarter_dict[prev_quarter[-2:]], True)"
   ]
  }
 ],
 "metadata": {
  "kernelspec": {
   "display_name": "Python 3",
   "language": "python",
   "name": "python3"
  },
  "language_info": {
   "codemirror_mode": {
    "name": "ipython",
    "version": 3
   },
   "file_extension": ".py",
   "mimetype": "text/x-python",
   "name": "python",
   "nbconvert_exporter": "python",
   "pygments_lexer": "ipython3",
   "version": "3.7.1"
  }
 },
 "nbformat": 4,
 "nbformat_minor": 2
}
