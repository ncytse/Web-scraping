{
 "cells": [
  {
   "cell_type": "code",
   "execution_count": 1,
   "metadata": {},
   "outputs": [],
   "source": [
    "from urllib.request import urlopen\n",
    "from bs4 import BeautifulSoup\n",
    "import pandas as pd\n",
    "import datetime\n",
    "import re\n",
    "import math"
   ]
  },
  {
   "cell_type": "code",
   "execution_count": 2,
   "metadata": {},
   "outputs": [],
   "source": [
    "start_date = datetime.date(2008,10,1)\n",
    "end_date = datetime.date(2008,12,31) \n",
    "d = datetime.timedelta(1)"
   ]
  },
  {
   "cell_type": "code",
   "execution_count": 3,
   "metadata": {},
   "outputs": [],
   "source": [
    "def get_quarter(d):\n",
    "    \n",
    "    quarter = \"%d_Q%d\" % (d.year, math.ceil(d.month/3))\n",
    "    \n",
    "    return quarter\n",
    "    \n",
    "year_quarter = get_quarter(end_date)"
   ]
  },
  {
   "cell_type": "code",
   "execution_count": 4,
   "metadata": {},
   "outputs": [],
   "source": [
    "def daterange(start_date, end_date):\n",
    "    for n in range(int((end_date - start_date).days)):\n",
    "        yield start_date + datetime.timedelta(n)"
   ]
  },
  {
   "cell_type": "code",
   "execution_count": 5,
   "metadata": {},
   "outputs": [],
   "source": [
    "writer = pd.ExcelWriter('FX Rate '+year_quarter+'.xlsx')\n",
    "    \n",
    "for date in daterange(start_date, end_date+d):\n",
    "    \n",
    "    url = 'https://www.xe.com/currencytables/?from=USD&date='+str(date.year)+'-'+'{:02d}'.format(date.month)+'-'+'{:02d}'.format(date.day)\n",
    "\n",
    "    # this is the html from the given url\n",
    "    html = urlopen(url)\n",
    "\n",
    "    soup = BeautifulSoup(html, 'html.parser')\n",
    "\n",
    "    column_headers = [th.getText() for th in \n",
    "                      soup.findAll('tr', limit=1)[0].findAll('th')] #[0] means first row of table\n",
    "    column_headers = [re.sub(\"[^ \\w]\",\" \",x).strip() for x in column_headers]\n",
    "\n",
    "    data_rows = soup.findAll('tr')[1:] #[1:] means 2nd row of table onward\n",
    "    type(data_rows)  # now we have a list of table rows\n",
    "\n",
    "    country_data = []  # create an empty list to hold all the data\n",
    "\n",
    "    for i in range(len(data_rows)):  # for each table row\n",
    "        country_row = []  # create an empty list for each country\n",
    "\n",
    "        # for each table data element from each table row\n",
    "        for td in data_rows[i].findAll('td'):        \n",
    "            # get the text content and append to the country_row \n",
    "            country_row.append(td.getText())        \n",
    "\n",
    "        # then append each country to the country_data matrix\n",
    "        country_data.append(country_row)\n",
    "\n",
    "    df = pd.DataFrame(country_data, columns=column_headers)\n",
    "    \n",
    "    df = df[df['Currency code'].str.len() == 3]\n",
    "    df = df.drop(['Units per USD'], axis=1)\n",
    "    df['Date'] = str(date.year) + '{:02d}'.format(date.month) + '{:02d}'.format(date.day)\n",
    "    df = df[['Date', 'Currency code', 'Currency name', 'USD per Unit']]\n",
    "    df['Date']=df['Date'].astype('int')\n",
    "    df['USD per Unit']=df['USD per Unit'].astype('float')\n",
    "    \n",
    "    df.to_excel(writer,str(date.year) + '{:02d}'.format(date.month) + '{:02d}'.format(date.day), index=False)\n",
    "\n",
    "writer.save()"
   ]
  },
  {
   "cell_type": "code",
   "execution_count": null,
   "metadata": {},
   "outputs": [],
   "source": []
  }
 ],
 "metadata": {
  "kernelspec": {
   "display_name": "Python 3",
   "language": "python",
   "name": "python3"
  },
  "language_info": {
   "codemirror_mode": {
    "name": "ipython",
    "version": 3
   },
   "file_extension": ".py",
   "mimetype": "text/x-python",
   "name": "python",
   "nbconvert_exporter": "python",
   "pygments_lexer": "ipython3",
   "version": "3.7.1"
  }
 },
 "nbformat": 4,
 "nbformat_minor": 2
}
